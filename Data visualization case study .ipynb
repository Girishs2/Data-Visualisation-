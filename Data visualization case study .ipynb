{
 "cells": [
  {
   "cell_type": "code",
   "execution_count": 1,
   "id": "4b03e928",
   "metadata": {},
   "outputs": [],
   "source": [
    "import numpy as np\n",
    "import pandas as pd\n",
    "\n",
    "import matplotlib.pyplot as plt\n",
    "import seaborn as sns\n",
    "\n",
    "plt.style.use(\"ggplot\")"
   ]
  },
  {
   "cell_type": "code",
   "execution_count": 2,
   "id": "ee911efa",
   "metadata": {},
   "outputs": [],
   "source": [
    "%matplotlib inline"
   ]
  },
  {
   "cell_type": "code",
   "execution_count": 3,
   "id": "a257eb4b",
   "metadata": {},
   "outputs": [
    {
     "data": {
      "text/html": [
       "<div>\n",
       "<style scoped>\n",
       "    .dataframe tbody tr th:only-of-type {\n",
       "        vertical-align: middle;\n",
       "    }\n",
       "\n",
       "    .dataframe tbody tr th {\n",
       "        vertical-align: top;\n",
       "    }\n",
       "\n",
       "    .dataframe thead th {\n",
       "        text-align: right;\n",
       "    }\n",
       "</style>\n",
       "<table border=\"1\" class=\"dataframe\">\n",
       "  <thead>\n",
       "    <tr style=\"text-align: right;\">\n",
       "      <th></th>\n",
       "      <th>AccountId</th>\n",
       "      <th>AccountName</th>\n",
       "      <th>Region</th>\n",
       "      <th>Division</th>\n",
       "      <th>City</th>\n",
       "      <th>State</th>\n",
       "      <th>Tier</th>\n",
       "      <th>Month</th>\n",
       "      <th>Sales2015</th>\n",
       "      <th>Sales2016</th>\n",
       "      <th>Units2015</th>\n",
       "      <th>Units2016</th>\n",
       "      <th>TargetAchevied2015</th>\n",
       "      <th>TargetAchevied2016</th>\n",
       "    </tr>\n",
       "  </thead>\n",
       "  <tbody>\n",
       "    <tr>\n",
       "      <th>0</th>\n",
       "      <td>1116</td>\n",
       "      <td>Account1</td>\n",
       "      <td>West</td>\n",
       "      <td>DIAMONDBACK</td>\n",
       "      <td>PHOENIX W</td>\n",
       "      <td>AZ</td>\n",
       "      <td>Low</td>\n",
       "      <td>Aug</td>\n",
       "      <td>0.00</td>\n",
       "      <td>13208.52</td>\n",
       "      <td>0.0</td>\n",
       "      <td>4.0</td>\n",
       "      <td>0.70</td>\n",
       "      <td>1.53</td>\n",
       "    </tr>\n",
       "    <tr>\n",
       "      <th>1</th>\n",
       "      <td>1116</td>\n",
       "      <td>Account1</td>\n",
       "      <td>West</td>\n",
       "      <td>DIAMONDBACK</td>\n",
       "      <td>PHOENIX W</td>\n",
       "      <td>AZ</td>\n",
       "      <td>Low</td>\n",
       "      <td>Oct</td>\n",
       "      <td>10500.78</td>\n",
       "      <td>23114.91</td>\n",
       "      <td>3.0</td>\n",
       "      <td>7.0</td>\n",
       "      <td>0.84</td>\n",
       "      <td>1.31</td>\n",
       "    </tr>\n",
       "    <tr>\n",
       "      <th>2</th>\n",
       "      <td>2391</td>\n",
       "      <td>Account2</td>\n",
       "      <td>East</td>\n",
       "      <td>MINUTEMEN</td>\n",
       "      <td>HARTFORD</td>\n",
       "      <td>CT</td>\n",
       "      <td>Med</td>\n",
       "      <td>Jun</td>\n",
       "      <td>0.00</td>\n",
       "      <td>6627.00</td>\n",
       "      <td>0.0</td>\n",
       "      <td>3.0</td>\n",
       "      <td>1.15</td>\n",
       "      <td>1.29</td>\n",
       "    </tr>\n",
       "    <tr>\n",
       "      <th>3</th>\n",
       "      <td>2391</td>\n",
       "      <td>Account2</td>\n",
       "      <td>East</td>\n",
       "      <td>MINUTEMEN</td>\n",
       "      <td>HARTFORD</td>\n",
       "      <td>CT</td>\n",
       "      <td>Med</td>\n",
       "      <td>Mar</td>\n",
       "      <td>19881.00</td>\n",
       "      <td>13254.00</td>\n",
       "      <td>9.0</td>\n",
       "      <td>6.0</td>\n",
       "      <td>1.33</td>\n",
       "      <td>1.17</td>\n",
       "    </tr>\n",
       "    <tr>\n",
       "      <th>4</th>\n",
       "      <td>2397</td>\n",
       "      <td>Account3</td>\n",
       "      <td>East</td>\n",
       "      <td>MINUTEMEN</td>\n",
       "      <td>WORCESTER</td>\n",
       "      <td>MA</td>\n",
       "      <td>Med</td>\n",
       "      <td>Sep</td>\n",
       "      <td>3684.48</td>\n",
       "      <td>0.00</td>\n",
       "      <td>1.0</td>\n",
       "      <td>0.0</td>\n",
       "      <td>1.02</td>\n",
       "      <td>1.53</td>\n",
       "    </tr>\n",
       "    <tr>\n",
       "      <th>...</th>\n",
       "      <td>...</td>\n",
       "      <td>...</td>\n",
       "      <td>...</td>\n",
       "      <td>...</td>\n",
       "      <td>...</td>\n",
       "      <td>...</td>\n",
       "      <td>...</td>\n",
       "      <td>...</td>\n",
       "      <td>...</td>\n",
       "      <td>...</td>\n",
       "      <td>...</td>\n",
       "      <td>...</td>\n",
       "      <td>...</td>\n",
       "      <td>...</td>\n",
       "    </tr>\n",
       "    <tr>\n",
       "      <th>3704</th>\n",
       "      <td>7576</td>\n",
       "      <td>Account2736</td>\n",
       "      <td>East</td>\n",
       "      <td>EMPIRE</td>\n",
       "      <td>SYRACUSE</td>\n",
       "      <td>NY</td>\n",
       "      <td>Out</td>\n",
       "      <td>Feb</td>\n",
       "      <td>3684.48</td>\n",
       "      <td>0.00</td>\n",
       "      <td>1.0</td>\n",
       "      <td>0.0</td>\n",
       "      <td>1.06</td>\n",
       "      <td>1.14</td>\n",
       "    </tr>\n",
       "    <tr>\n",
       "      <th>3705</th>\n",
       "      <td>4969</td>\n",
       "      <td>Account2740</td>\n",
       "      <td>Central</td>\n",
       "      <td>SOUTHERN STAR</td>\n",
       "      <td>MONTGOMERY</td>\n",
       "      <td>AL</td>\n",
       "      <td>Med</td>\n",
       "      <td>Aug</td>\n",
       "      <td>3684.48</td>\n",
       "      <td>0.00</td>\n",
       "      <td>1.0</td>\n",
       "      <td>0.0</td>\n",
       "      <td>0.96</td>\n",
       "      <td>1.11</td>\n",
       "    </tr>\n",
       "    <tr>\n",
       "      <th>3706</th>\n",
       "      <td>2850</td>\n",
       "      <td>Account2746</td>\n",
       "      <td>East</td>\n",
       "      <td>SYNERGY</td>\n",
       "      <td>ASHEVILLE</td>\n",
       "      <td>NC</td>\n",
       "      <td>High</td>\n",
       "      <td>Nov</td>\n",
       "      <td>5067.70</td>\n",
       "      <td>0.00</td>\n",
       "      <td>2.0</td>\n",
       "      <td>0.0</td>\n",
       "      <td>1.11</td>\n",
       "      <td>1.55</td>\n",
       "    </tr>\n",
       "    <tr>\n",
       "      <th>3707</th>\n",
       "      <td>1102265</td>\n",
       "      <td>Account2748</td>\n",
       "      <td>West</td>\n",
       "      <td>DIAMONDBACK</td>\n",
       "      <td>SCOTTSDALE</td>\n",
       "      <td>AZ</td>\n",
       "      <td>Out</td>\n",
       "      <td>Jan</td>\n",
       "      <td>3684.48</td>\n",
       "      <td>0.00</td>\n",
       "      <td>1.0</td>\n",
       "      <td>0.0</td>\n",
       "      <td>1.31</td>\n",
       "      <td>1.48</td>\n",
       "    </tr>\n",
       "    <tr>\n",
       "      <th>3708</th>\n",
       "      <td>47282</td>\n",
       "      <td>Account2750</td>\n",
       "      <td>West</td>\n",
       "      <td>CHARGERS</td>\n",
       "      <td>SAN JOSE</td>\n",
       "      <td>CA</td>\n",
       "      <td>Low</td>\n",
       "      <td>Jun</td>\n",
       "      <td>2858.71</td>\n",
       "      <td>0.00</td>\n",
       "      <td>1.0</td>\n",
       "      <td>0.0</td>\n",
       "      <td>1.33</td>\n",
       "      <td>1.01</td>\n",
       "    </tr>\n",
       "  </tbody>\n",
       "</table>\n",
       "<p>3709 rows × 14 columns</p>\n",
       "</div>"
      ],
      "text/plain": [
       "      AccountId  AccountName   Region       Division        City State  Tier  \\\n",
       "0          1116     Account1     West    DIAMONDBACK   PHOENIX W    AZ   Low   \n",
       "1          1116     Account1     West    DIAMONDBACK   PHOENIX W    AZ   Low   \n",
       "2          2391     Account2     East      MINUTEMEN    HARTFORD    CT   Med   \n",
       "3          2391     Account2     East      MINUTEMEN    HARTFORD    CT   Med   \n",
       "4          2397     Account3     East      MINUTEMEN   WORCESTER    MA   Med   \n",
       "...         ...          ...      ...            ...         ...   ...   ...   \n",
       "3704       7576  Account2736     East         EMPIRE    SYRACUSE    NY   Out   \n",
       "3705       4969  Account2740  Central  SOUTHERN STAR  MONTGOMERY    AL   Med   \n",
       "3706       2850  Account2746     East        SYNERGY   ASHEVILLE    NC  High   \n",
       "3707    1102265  Account2748     West    DIAMONDBACK  SCOTTSDALE    AZ   Out   \n",
       "3708      47282  Account2750     West       CHARGERS    SAN JOSE    CA   Low   \n",
       "\n",
       "     Month  Sales2015  Sales2016  Units2015  Units2016  TargetAchevied2015  \\\n",
       "0      Aug       0.00   13208.52        0.0        4.0                0.70   \n",
       "1      Oct   10500.78   23114.91        3.0        7.0                0.84   \n",
       "2      Jun       0.00    6627.00        0.0        3.0                1.15   \n",
       "3      Mar   19881.00   13254.00        9.0        6.0                1.33   \n",
       "4      Sep    3684.48       0.00        1.0        0.0                1.02   \n",
       "...    ...        ...        ...        ...        ...                 ...   \n",
       "3704   Feb    3684.48       0.00        1.0        0.0                1.06   \n",
       "3705   Aug    3684.48       0.00        1.0        0.0                0.96   \n",
       "3706   Nov    5067.70       0.00        2.0        0.0                1.11   \n",
       "3707   Jan    3684.48       0.00        1.0        0.0                1.31   \n",
       "3708   Jun    2858.71       0.00        1.0        0.0                1.33   \n",
       "\n",
       "      TargetAchevied2016  \n",
       "0                   1.53  \n",
       "1                   1.31  \n",
       "2                   1.29  \n",
       "3                   1.17  \n",
       "4                   1.53  \n",
       "...                  ...  \n",
       "3704                1.14  \n",
       "3705                1.11  \n",
       "3706                1.55  \n",
       "3707                1.48  \n",
       "3708                1.01  \n",
       "\n",
       "[3709 rows x 14 columns]"
      ]
     },
     "execution_count": 3,
     "metadata": {},
     "output_type": "execute_result"
    }
   ],
   "source": [
    "sales = pd.read_csv(r\"E:\\Assignments\\Python Foundation Case Study 4 - Python Visualization Case Study\\SalesData.csv\")\n",
    "sales"
   ]
  },
  {
   "cell_type": "code",
   "execution_count": 4,
   "id": "9844836a",
   "metadata": {},
   "outputs": [
    {
     "name": "stdout",
     "output_type": "stream",
     "text": [
      "<class 'pandas.core.frame.DataFrame'>\n",
      "RangeIndex: 3709 entries, 0 to 3708\n",
      "Data columns (total 14 columns):\n",
      " #   Column              Non-Null Count  Dtype  \n",
      "---  ------              --------------  -----  \n",
      " 0   AccountId           3709 non-null   int64  \n",
      " 1   AccountName         3709 non-null   object \n",
      " 2   Region              3709 non-null   object \n",
      " 3   Division            3709 non-null   object \n",
      " 4   City                3709 non-null   object \n",
      " 5   State               3709 non-null   object \n",
      " 6   Tier                3709 non-null   object \n",
      " 7   Month               3709 non-null   object \n",
      " 8   Sales2015           3709 non-null   float64\n",
      " 9   Sales2016           3709 non-null   float64\n",
      " 10  Units2015           3709 non-null   float64\n",
      " 11  Units2016           3709 non-null   float64\n",
      " 12  TargetAchevied2015  3709 non-null   float64\n",
      " 13  TargetAchevied2016  3709 non-null   float64\n",
      "dtypes: float64(6), int64(1), object(7)\n",
      "memory usage: 405.8+ KB\n"
     ]
    }
   ],
   "source": [
    "sales.info()"
   ]
  },
  {
   "cell_type": "code",
   "execution_count": 5,
   "id": "ef24909c",
   "metadata": {},
   "outputs": [
    {
     "data": {
      "text/plain": [
       "AccountId             0\n",
       "AccountName           0\n",
       "Region                0\n",
       "Division              0\n",
       "City                  0\n",
       "State                 0\n",
       "Tier                  0\n",
       "Month                 0\n",
       "Sales2015             0\n",
       "Sales2016             0\n",
       "Units2015             0\n",
       "Units2016             0\n",
       "TargetAchevied2015    0\n",
       "TargetAchevied2016    0\n",
       "dtype: int64"
      ]
     },
     "execution_count": 5,
     "metadata": {},
     "output_type": "execute_result"
    }
   ],
   "source": [
    "sales.isna().sum()"
   ]
  },
  {
   "cell_type": "code",
   "execution_count": 6,
   "id": "17630a79",
   "metadata": {},
   "outputs": [
    {
     "data": {
      "text/plain": [
       "AccountId               int64\n",
       "AccountName            object\n",
       "Region                 object\n",
       "Division               object\n",
       "City                   object\n",
       "State                  object\n",
       "Tier                   object\n",
       "Month                  object\n",
       "Sales2015             float64\n",
       "Sales2016             float64\n",
       "Units2015             float64\n",
       "Units2016             float64\n",
       "TargetAchevied2015    float64\n",
       "TargetAchevied2016    float64\n",
       "dtype: object"
      ]
     },
     "execution_count": 6,
     "metadata": {},
     "output_type": "execute_result"
    }
   ],
   "source": [
    "sales.dtypes"
   ]
  },
  {
   "cell_type": "code",
   "execution_count": 7,
   "id": "063abdb8",
   "metadata": {},
   "outputs": [
    {
     "data": {
      "text/plain": [
       "0"
      ]
     },
     "execution_count": 7,
     "metadata": {},
     "output_type": "execute_result"
    }
   ],
   "source": [
    "sales.duplicated().sum()"
   ]
  },
  {
   "cell_type": "code",
   "execution_count": 8,
   "id": "4fde523b",
   "metadata": {},
   "outputs": [
    {
     "data": {
      "text/html": [
       "<div>\n",
       "<style scoped>\n",
       "    .dataframe tbody tr th:only-of-type {\n",
       "        vertical-align: middle;\n",
       "    }\n",
       "\n",
       "    .dataframe tbody tr th {\n",
       "        vertical-align: top;\n",
       "    }\n",
       "\n",
       "    .dataframe thead th {\n",
       "        text-align: right;\n",
       "    }\n",
       "</style>\n",
       "<table border=\"1\" class=\"dataframe\">\n",
       "  <thead>\n",
       "    <tr style=\"text-align: right;\">\n",
       "      <th></th>\n",
       "      <th>AccountId</th>\n",
       "      <th>Sales2015</th>\n",
       "      <th>Sales2016</th>\n",
       "      <th>Units2015</th>\n",
       "      <th>Units2016</th>\n",
       "      <th>TargetAchevied2015</th>\n",
       "      <th>TargetAchevied2016</th>\n",
       "    </tr>\n",
       "  </thead>\n",
       "  <tbody>\n",
       "    <tr>\n",
       "      <th>count</th>\n",
       "      <td>3.709000e+03</td>\n",
       "      <td>3709.000000</td>\n",
       "      <td>3709.000000</td>\n",
       "      <td>3709.000000</td>\n",
       "      <td>3709.00000</td>\n",
       "      <td>3709.000000</td>\n",
       "      <td>3709.000000</td>\n",
       "    </tr>\n",
       "    <tr>\n",
       "      <th>mean</th>\n",
       "      <td>7.716535e+04</td>\n",
       "      <td>6134.912371</td>\n",
       "      <td>7998.039527</td>\n",
       "      <td>2.293567</td>\n",
       "      <td>3.00791</td>\n",
       "      <td>1.067396</td>\n",
       "      <td>1.242354</td>\n",
       "    </tr>\n",
       "    <tr>\n",
       "      <th>std</th>\n",
       "      <td>2.417615e+05</td>\n",
       "      <td>9195.070153</td>\n",
       "      <td>11130.551032</td>\n",
       "      <td>3.659052</td>\n",
       "      <td>4.31373</td>\n",
       "      <td>0.211269</td>\n",
       "      <td>0.192727</td>\n",
       "    </tr>\n",
       "    <tr>\n",
       "      <th>min</th>\n",
       "      <td>1.116000e+03</td>\n",
       "      <td>-11053.440000</td>\n",
       "      <td>-59090.810000</td>\n",
       "      <td>-3.000000</td>\n",
       "      <td>-17.00000</td>\n",
       "      <td>0.700000</td>\n",
       "      <td>0.910000</td>\n",
       "    </tr>\n",
       "    <tr>\n",
       "      <th>25%</th>\n",
       "      <td>3.774000e+03</td>\n",
       "      <td>0.000000</td>\n",
       "      <td>1886.690000</td>\n",
       "      <td>0.000000</td>\n",
       "      <td>1.00000</td>\n",
       "      <td>0.880000</td>\n",
       "      <td>1.080000</td>\n",
       "    </tr>\n",
       "    <tr>\n",
       "      <th>50%</th>\n",
       "      <td>6.500000e+03</td>\n",
       "      <td>3128.340000</td>\n",
       "      <td>3918.770000</td>\n",
       "      <td>1.000000</td>\n",
       "      <td>1.83330</td>\n",
       "      <td>1.070000</td>\n",
       "      <td>1.240000</td>\n",
       "    </tr>\n",
       "    <tr>\n",
       "      <th>75%</th>\n",
       "      <td>1.041900e+04</td>\n",
       "      <td>7837.540000</td>\n",
       "      <td>10122.400000</td>\n",
       "      <td>3.000000</td>\n",
       "      <td>4.00000</td>\n",
       "      <td>1.250000</td>\n",
       "      <td>1.410000</td>\n",
       "    </tr>\n",
       "    <tr>\n",
       "      <th>max</th>\n",
       "      <td>1.219499e+06</td>\n",
       "      <td>145760.120000</td>\n",
       "      <td>168033.360000</td>\n",
       "      <td>53.000000</td>\n",
       "      <td>61.00000</td>\n",
       "      <td>1.420000</td>\n",
       "      <td>1.570000</td>\n",
       "    </tr>\n",
       "  </tbody>\n",
       "</table>\n",
       "</div>"
      ],
      "text/plain": [
       "          AccountId      Sales2015      Sales2016    Units2015   Units2016  \\\n",
       "count  3.709000e+03    3709.000000    3709.000000  3709.000000  3709.00000   \n",
       "mean   7.716535e+04    6134.912371    7998.039527     2.293567     3.00791   \n",
       "std    2.417615e+05    9195.070153   11130.551032     3.659052     4.31373   \n",
       "min    1.116000e+03  -11053.440000  -59090.810000    -3.000000   -17.00000   \n",
       "25%    3.774000e+03       0.000000    1886.690000     0.000000     1.00000   \n",
       "50%    6.500000e+03    3128.340000    3918.770000     1.000000     1.83330   \n",
       "75%    1.041900e+04    7837.540000   10122.400000     3.000000     4.00000   \n",
       "max    1.219499e+06  145760.120000  168033.360000    53.000000    61.00000   \n",
       "\n",
       "       TargetAchevied2015  TargetAchevied2016  \n",
       "count         3709.000000         3709.000000  \n",
       "mean             1.067396            1.242354  \n",
       "std              0.211269            0.192727  \n",
       "min              0.700000            0.910000  \n",
       "25%              0.880000            1.080000  \n",
       "50%              1.070000            1.240000  \n",
       "75%              1.250000            1.410000  \n",
       "max              1.420000            1.570000  "
      ]
     },
     "execution_count": 8,
     "metadata": {},
     "output_type": "execute_result"
    }
   ],
   "source": [
    "sales.describe(include=('int','float'))"
   ]
  },
  {
   "cell_type": "code",
   "execution_count": 9,
   "id": "69d44bf8",
   "metadata": {},
   "outputs": [
    {
     "data": {
      "text/html": [
       "<div>\n",
       "<style scoped>\n",
       "    .dataframe tbody tr th:only-of-type {\n",
       "        vertical-align: middle;\n",
       "    }\n",
       "\n",
       "    .dataframe tbody tr th {\n",
       "        vertical-align: top;\n",
       "    }\n",
       "\n",
       "    .dataframe thead th {\n",
       "        text-align: right;\n",
       "    }\n",
       "</style>\n",
       "<table border=\"1\" class=\"dataframe\">\n",
       "  <thead>\n",
       "    <tr style=\"text-align: right;\">\n",
       "      <th></th>\n",
       "      <th>AccountName</th>\n",
       "      <th>Region</th>\n",
       "      <th>Division</th>\n",
       "      <th>City</th>\n",
       "      <th>State</th>\n",
       "      <th>Tier</th>\n",
       "      <th>Month</th>\n",
       "    </tr>\n",
       "  </thead>\n",
       "  <tbody>\n",
       "    <tr>\n",
       "      <th>count</th>\n",
       "      <td>3709</td>\n",
       "      <td>3709</td>\n",
       "      <td>3709</td>\n",
       "      <td>3709</td>\n",
       "      <td>3709</td>\n",
       "      <td>3709</td>\n",
       "      <td>3709</td>\n",
       "    </tr>\n",
       "    <tr>\n",
       "      <th>unique</th>\n",
       "      <td>2293</td>\n",
       "      <td>3</td>\n",
       "      <td>26</td>\n",
       "      <td>203</td>\n",
       "      <td>44</td>\n",
       "      <td>4</td>\n",
       "      <td>12</td>\n",
       "    </tr>\n",
       "    <tr>\n",
       "      <th>top</th>\n",
       "      <td>Account98</td>\n",
       "      <td>Central</td>\n",
       "      <td>HAILSTORM</td>\n",
       "      <td>FAYETTEVILLE</td>\n",
       "      <td>TX</td>\n",
       "      <td>High</td>\n",
       "      <td>Jan</td>\n",
       "    </tr>\n",
       "    <tr>\n",
       "      <th>freq</th>\n",
       "      <td>12</td>\n",
       "      <td>1374</td>\n",
       "      <td>206</td>\n",
       "      <td>40</td>\n",
       "      <td>333</td>\n",
       "      <td>1984</td>\n",
       "      <td>328</td>\n",
       "    </tr>\n",
       "  </tbody>\n",
       "</table>\n",
       "</div>"
      ],
      "text/plain": [
       "       AccountName   Region   Division          City State  Tier Month\n",
       "count         3709     3709       3709          3709  3709  3709  3709\n",
       "unique        2293        3         26           203    44     4    12\n",
       "top      Account98  Central  HAILSTORM  FAYETTEVILLE    TX  High   Jan\n",
       "freq            12     1374        206            40   333  1984   328"
      ]
     },
     "execution_count": 9,
     "metadata": {},
     "output_type": "execute_result"
    }
   ],
   "source": [
    "sales.describe(include='object')"
   ]
  },
  {
   "cell_type": "markdown",
   "id": "c1faa015",
   "metadata": {},
   "source": [
    "1. Compare Sales by region for 2016 with 2015 using bar chart"
   ]
  },
  {
   "cell_type": "code",
   "execution_count": 10,
   "id": "fc4a8e27",
   "metadata": {},
   "outputs": [
    {
     "data": {
      "text/html": [
       "<div>\n",
       "<style scoped>\n",
       "    .dataframe tbody tr th:only-of-type {\n",
       "        vertical-align: middle;\n",
       "    }\n",
       "\n",
       "    .dataframe tbody tr th {\n",
       "        vertical-align: top;\n",
       "    }\n",
       "\n",
       "    .dataframe thead th {\n",
       "        text-align: right;\n",
       "    }\n",
       "</style>\n",
       "<table border=\"1\" class=\"dataframe\">\n",
       "  <thead>\n",
       "    <tr style=\"text-align: right;\">\n",
       "      <th></th>\n",
       "      <th>Sales2015</th>\n",
       "      <th>Sales2016</th>\n",
       "    </tr>\n",
       "    <tr>\n",
       "      <th>Region</th>\n",
       "      <th></th>\n",
       "      <th></th>\n",
       "    </tr>\n",
       "  </thead>\n",
       "  <tbody>\n",
       "    <tr>\n",
       "      <th>Central</th>\n",
       "      <td>7.891729e+06</td>\n",
       "      <td>9.787809e+06</td>\n",
       "    </tr>\n",
       "    <tr>\n",
       "      <th>East</th>\n",
       "      <td>9.512916e+06</td>\n",
       "      <td>1.266723e+07</td>\n",
       "    </tr>\n",
       "    <tr>\n",
       "      <th>West</th>\n",
       "      <td>5.349745e+06</td>\n",
       "      <td>7.209689e+06</td>\n",
       "    </tr>\n",
       "  </tbody>\n",
       "</table>\n",
       "</div>"
      ],
      "text/plain": [
       "            Sales2015     Sales2016\n",
       "Region                             \n",
       "Central  7.891729e+06  9.787809e+06\n",
       "East     9.512916e+06  1.266723e+07\n",
       "West     5.349745e+06  7.209689e+06"
      ]
     },
     "execution_count": 10,
     "metadata": {},
     "output_type": "execute_result"
    }
   ],
   "source": [
    "sale_by_reg = sales.groupby('Region')[['Sales2015','Sales2016']].sum()\n",
    "sale_by_reg"
   ]
  },
  {
   "cell_type": "code",
   "execution_count": 11,
   "id": "b514dbf7",
   "metadata": {},
   "outputs": [
    {
     "data": {
      "text/plain": [
       "Text(0.5, 1.0, 'sales_by_Region')"
      ]
     },
     "execution_count": 11,
     "metadata": {},
     "output_type": "execute_result"
    },
    {
     "data": {
      "image/png": "[encoded data removed]",
      "text/plain": [
       "<Figure size 432x288 with 1 Axes>"
      ]
     },
     "metadata": {
      "needs_background": "light"
     },
     "output_type": "display_data"
    }
   ],
   "source": [
    "sale_by_reg.plot(kind='bar')\n",
    "plt.xlabel('Region')\n",
    "plt.ylabel('sales')\n",
    "plt.title('sales_by_Region')"
   ]
  },
  {
   "cell_type": "markdown",
   "id": "e0b5dade",
   "metadata": {},
   "source": [
    "2. What are the contributing factors to the sales for each region in 2016. Visualize it using a \n",
    "Pie Chart.\n"
   ]
  },
  {
   "cell_type": "code",
   "execution_count": 12,
   "id": "1bc44983",
   "metadata": {},
   "outputs": [
    {
     "data": {
      "text/plain": [
       "Text(0.5, 1.0, 'Pie chart for salesfor each Region in 2016')"
      ]
     },
     "execution_count": 12,
     "metadata": {},
     "output_type": "execute_result"
    },
    {
     "data": {
      "image/png": "[encoded data removed]",
      "text/plain": [
       "<Figure size 432x288 with 1 Axes>"
      ]
     },
     "metadata": {},
     "output_type": "display_data"
    }
   ],
   "source": [
    "sales_2016 = sales.groupby('Region')['Sales2016'].sum()\n",
    "sales_2016.plot(kind='pie', autopct='%0.2f%%',colors=['r','g','y'] ,explode=[0.1,0.1,0.1])\n",
    "plt.title('Pie chart for salesfor each Region in 2016')"
   ]
  },
  {
   "cell_type": "markdown",
   "id": "79fae915",
   "metadata": {},
   "source": [
    "3. Compare the total sales of 2015 and 2016 with respect to Region and Tiers"
   ]
  },
  {
   "cell_type": "code",
   "execution_count": 13,
   "id": "16cdfc42",
   "metadata": {},
   "outputs": [
    {
     "data": {
      "text/html": [
       "<div>\n",
       "<style scoped>\n",
       "    .dataframe tbody tr th:only-of-type {\n",
       "        vertical-align: middle;\n",
       "    }\n",
       "\n",
       "    .dataframe tbody tr th {\n",
       "        vertical-align: top;\n",
       "    }\n",
       "\n",
       "    .dataframe thead tr th {\n",
       "        text-align: left;\n",
       "    }\n",
       "\n",
       "    .dataframe thead tr:last-of-type th {\n",
       "        text-align: right;\n",
       "    }\n",
       "</style>\n",
       "<table border=\"1\" class=\"dataframe\">\n",
       "  <thead>\n",
       "    <tr>\n",
       "      <th></th>\n",
       "      <th colspan=\"4\" halign=\"left\">Sales2015</th>\n",
       "      <th colspan=\"4\" halign=\"left\">Sales2016</th>\n",
       "    </tr>\n",
       "    <tr>\n",
       "      <th>Tier</th>\n",
       "      <th>High</th>\n",
       "      <th>Low</th>\n",
       "      <th>Med</th>\n",
       "      <th>Out</th>\n",
       "      <th>High</th>\n",
       "      <th>Low</th>\n",
       "      <th>Med</th>\n",
       "      <th>Out</th>\n",
       "    </tr>\n",
       "    <tr>\n",
       "      <th>Region</th>\n",
       "      <th></th>\n",
       "      <th></th>\n",
       "      <th></th>\n",
       "      <th></th>\n",
       "      <th></th>\n",
       "      <th></th>\n",
       "      <th></th>\n",
       "      <th></th>\n",
       "    </tr>\n",
       "  </thead>\n",
       "  <tbody>\n",
       "    <tr>\n",
       "      <th>Central</th>\n",
       "      <td>6519.970693</td>\n",
       "      <td>3430.689709</td>\n",
       "      <td>5926.148610</td>\n",
       "      <td>5811.777857</td>\n",
       "      <td>8187.558342</td>\n",
       "      <td>4119.392182</td>\n",
       "      <td>7542.067253</td>\n",
       "      <td>-232.037857</td>\n",
       "    </tr>\n",
       "    <tr>\n",
       "      <th>East</th>\n",
       "      <td>8224.994771</td>\n",
       "      <td>5094.157062</td>\n",
       "      <td>6041.559951</td>\n",
       "      <td>4663.318750</td>\n",
       "      <td>10535.244070</td>\n",
       "      <td>6468.528757</td>\n",
       "      <td>9059.045868</td>\n",
       "      <td>0.000000</td>\n",
       "    </tr>\n",
       "    <tr>\n",
       "      <th>West</th>\n",
       "      <td>5819.741621</td>\n",
       "      <td>3531.917789</td>\n",
       "      <td>5747.411104</td>\n",
       "      <td>3853.770000</td>\n",
       "      <td>7446.716107</td>\n",
       "      <td>5786.853579</td>\n",
       "      <td>7833.273900</td>\n",
       "      <td>0.000000</td>\n",
       "    </tr>\n",
       "  </tbody>\n",
       "</table>\n",
       "</div>"
      ],
      "text/plain": [
       "           Sales2015                                            Sales2016  \\\n",
       "Tier            High          Low          Med          Out          High   \n",
       "Region                                                                      \n",
       "Central  6519.970693  3430.689709  5926.148610  5811.777857   8187.558342   \n",
       "East     8224.994771  5094.157062  6041.559951  4663.318750  10535.244070   \n",
       "West     5819.741621  3531.917789  5747.411104  3853.770000   7446.716107   \n",
       "\n",
       "                                               \n",
       "Tier             Low          Med         Out  \n",
       "Region                                         \n",
       "Central  4119.392182  7542.067253 -232.037857  \n",
       "East     6468.528757  9059.045868    0.000000  \n",
       "West     5786.853579  7833.273900    0.000000  "
      ]
     },
     "execution_count": 13,
     "metadata": {},
     "output_type": "execute_result"
    }
   ],
   "source": [
    "sub_sales = sales.loc[:,['Region','Tier','Sales2015','Sales2016']]\n",
    "sales_with_Reg_tier = sub_sales.pivot_table(index='Region', columns='Tier', values=['Sales2015','Sales2016'])\n",
    "sales_with_Reg_tier"
   ]
  },
  {
   "cell_type": "code",
   "execution_count": 14,
   "id": "ef08e3eb",
   "metadata": {},
   "outputs": [
    {
     "data": {
      "text/plain": [
       "Text(0.5, 1.0, 'Sales with respect to Region and Tier')"
      ]
     },
     "execution_count": 14,
     "metadata": {},
     "output_type": "execute_result"
    },
    {
     "data": {
      "image/png": "[encoded data removed]",
      "text/plain": [
       "<Figure size 720x432 with 1 Axes>"
      ]
     },
     "metadata": {
      "needs_background": "light"
     },
     "output_type": "display_data"
    }
   ],
   "source": [
    "sales_with_Reg_tier.plot.bar(ylabel='Sales', figsize=(10,6))\n",
    "plt.title('Sales with respect to Region and Tier')"
   ]
  },
  {
   "cell_type": "markdown",
   "id": "12ffd3de",
   "metadata": {},
   "source": [
    "4. In East region, which state registered a decline in 2016 as compared to 2015?"
   ]
  },
  {
   "cell_type": "code",
   "execution_count": 15,
   "id": "972effa7",
   "metadata": {},
   "outputs": [
    {
     "data": {
      "text/html": [
       "<div>\n",
       "<style scoped>\n",
       "    .dataframe tbody tr th:only-of-type {\n",
       "        vertical-align: middle;\n",
       "    }\n",
       "\n",
       "    .dataframe tbody tr th {\n",
       "        vertical-align: top;\n",
       "    }\n",
       "\n",
       "    .dataframe thead th {\n",
       "        text-align: right;\n",
       "    }\n",
       "</style>\n",
       "<table border=\"1\" class=\"dataframe\">\n",
       "  <thead>\n",
       "    <tr style=\"text-align: right;\">\n",
       "      <th></th>\n",
       "      <th>State</th>\n",
       "      <th>Sales2015</th>\n",
       "      <th>Sales2016</th>\n",
       "    </tr>\n",
       "  </thead>\n",
       "  <tbody>\n",
       "    <tr>\n",
       "      <th>2</th>\n",
       "      <td>CT</td>\n",
       "      <td>0.00</td>\n",
       "      <td>6627.00</td>\n",
       "    </tr>\n",
       "    <tr>\n",
       "      <th>3</th>\n",
       "      <td>CT</td>\n",
       "      <td>19881.00</td>\n",
       "      <td>13254.00</td>\n",
       "    </tr>\n",
       "    <tr>\n",
       "      <th>4</th>\n",
       "      <td>MA</td>\n",
       "      <td>3684.48</td>\n",
       "      <td>0.00</td>\n",
       "    </tr>\n",
       "    <tr>\n",
       "      <th>5</th>\n",
       "      <td>ME</td>\n",
       "      <td>0.00</td>\n",
       "      <td>10525.24</td>\n",
       "    </tr>\n",
       "    <tr>\n",
       "      <th>6</th>\n",
       "      <td>ME</td>\n",
       "      <td>2631.31</td>\n",
       "      <td>42812.62</td>\n",
       "    </tr>\n",
       "    <tr>\n",
       "      <th>...</th>\n",
       "      <td>...</td>\n",
       "      <td>...</td>\n",
       "      <td>...</td>\n",
       "    </tr>\n",
       "    <tr>\n",
       "      <th>3682</th>\n",
       "      <td>MA</td>\n",
       "      <td>3128.34</td>\n",
       "      <td>3128.34</td>\n",
       "    </tr>\n",
       "    <tr>\n",
       "      <th>3695</th>\n",
       "      <td>FL</td>\n",
       "      <td>0.00</td>\n",
       "      <td>16163.05</td>\n",
       "    </tr>\n",
       "    <tr>\n",
       "      <th>3700</th>\n",
       "      <td>NY</td>\n",
       "      <td>7368.96</td>\n",
       "      <td>0.00</td>\n",
       "    </tr>\n",
       "    <tr>\n",
       "      <th>3704</th>\n",
       "      <td>NY</td>\n",
       "      <td>3684.48</td>\n",
       "      <td>0.00</td>\n",
       "    </tr>\n",
       "    <tr>\n",
       "      <th>3706</th>\n",
       "      <td>NC</td>\n",
       "      <td>5067.70</td>\n",
       "      <td>0.00</td>\n",
       "    </tr>\n",
       "  </tbody>\n",
       "</table>\n",
       "<p>1336 rows × 3 columns</p>\n",
       "</div>"
      ],
      "text/plain": [
       "     State  Sales2015  Sales2016\n",
       "2       CT       0.00    6627.00\n",
       "3       CT   19881.00   13254.00\n",
       "4       MA    3684.48       0.00\n",
       "5       ME       0.00   10525.24\n",
       "6       ME    2631.31   42812.62\n",
       "...    ...        ...        ...\n",
       "3682    MA    3128.34    3128.34\n",
       "3695    FL       0.00   16163.05\n",
       "3700    NY    7368.96       0.00\n",
       "3704    NY    3684.48       0.00\n",
       "3706    NC    5067.70       0.00\n",
       "\n",
       "[1336 rows x 3 columns]"
      ]
     },
     "execution_count": 15,
     "metadata": {},
     "output_type": "execute_result"
    }
   ],
   "source": [
    "East_Reg = sales.loc[sales['Region']=='East',['State','Sales2015','Sales2016']]\n",
    "East_Reg"
   ]
  },
  {
   "cell_type": "code",
   "execution_count": 16,
   "id": "f9aec066",
   "metadata": {},
   "outputs": [
    {
     "data": {
      "text/plain": [
       "<AxesSubplot:title={'center':'Sales in 2015 and 2016 by states'}, xlabel='State', ylabel='Sales'>"
      ]
     },
     "execution_count": 16,
     "metadata": {},
     "output_type": "execute_result"
    },
    {
     "data": {
      "image/png": "[encoded data removed]",
      "text/plain": [
       "<Figure size 936x432 with 1 Axes>"
      ]
     },
     "metadata": {
      "needs_background": "light"
     },
     "output_type": "display_data"
    }
   ],
   "source": [
    "East_Reg.groupby('State')[['Sales2015','Sales2016']].sum().plot(kind='bar', figsize=(13,6), ylabel='Sales', title='Sales in 2015 and 2016 by states')"
   ]
  },
  {
   "cell_type": "code",
   "execution_count": 17,
   "id": "cfd2632c",
   "metadata": {},
   "outputs": [
    {
     "data": {
      "text/plain": [
       "<AxesSubplot:title={'center':'Sales in 2015 and 2016 by states'}, xlabel='State', ylabel='Sales'>"
      ]
     },
     "execution_count": 17,
     "metadata": {},
     "output_type": "execute_result"
    },
    {
     "data": {
      "image/png": "[encoded data removed]",
      "text/plain": [
       "<Figure size 936x432 with 1 Axes>"
      ]
     },
     "metadata": {
      "needs_background": "light"
     },
     "output_type": "display_data"
    }
   ],
   "source": [
    "#or\n",
    "East_Reg.pivot_table(index='State', values=['Sales2015','Sales2016']).plot(kind='bar', figsize=(13,6), ylabel='Sales', title=('Sales in 2015 and 2016 by states'))"
   ]
  },
  {
   "cell_type": "markdown",
   "id": "a1addf73",
   "metadata": {},
   "source": [
    "In East region, NY state registered a decline in 2016 as compared to 2015"
   ]
  },
  {
   "cell_type": "markdown",
   "id": "d4daf710",
   "metadata": {},
   "source": [
    "5. In all the High tier, which Division saw a decline in number of units sold in 2016 compared \n",
    "to 2015?\n"
   ]
  },
  {
   "cell_type": "code",
   "execution_count": 18,
   "id": "00283c36",
   "metadata": {},
   "outputs": [
    {
     "data": {
      "text/html": [
       "<div>\n",
       "<style scoped>\n",
       "    .dataframe tbody tr th:only-of-type {\n",
       "        vertical-align: middle;\n",
       "    }\n",
       "\n",
       "    .dataframe tbody tr th {\n",
       "        vertical-align: top;\n",
       "    }\n",
       "\n",
       "    .dataframe thead th {\n",
       "        text-align: right;\n",
       "    }\n",
       "</style>\n",
       "<table border=\"1\" class=\"dataframe\">\n",
       "  <thead>\n",
       "    <tr style=\"text-align: right;\">\n",
       "      <th></th>\n",
       "      <th>Units2015</th>\n",
       "      <th>Units2016</th>\n",
       "    </tr>\n",
       "    <tr>\n",
       "      <th>Division</th>\n",
       "      <th></th>\n",
       "      <th></th>\n",
       "    </tr>\n",
       "  </thead>\n",
       "  <tbody>\n",
       "    <tr>\n",
       "      <th>BIG APPLE</th>\n",
       "      <td>297.8330</td>\n",
       "      <td>356.0000</td>\n",
       "    </tr>\n",
       "    <tr>\n",
       "      <th>CHARGERS</th>\n",
       "      <td>228.8333</td>\n",
       "      <td>312.4999</td>\n",
       "    </tr>\n",
       "    <tr>\n",
       "      <th>CONGRESSIONAL</th>\n",
       "      <td>306.5012</td>\n",
       "      <td>413.0006</td>\n",
       "    </tr>\n",
       "    <tr>\n",
       "      <th>DIAMONDBACK</th>\n",
       "      <td>303.5001</td>\n",
       "      <td>419.0001</td>\n",
       "    </tr>\n",
       "    <tr>\n",
       "      <th>EMPIRE</th>\n",
       "      <td>529.8335</td>\n",
       "      <td>563.3336</td>\n",
       "    </tr>\n",
       "    <tr>\n",
       "      <th>GRIDIRON</th>\n",
       "      <td>278.0006</td>\n",
       "      <td>340.1675</td>\n",
       "    </tr>\n",
       "    <tr>\n",
       "      <th>GULF STREAM</th>\n",
       "      <td>395.8333</td>\n",
       "      <td>624.3343</td>\n",
       "    </tr>\n",
       "    <tr>\n",
       "      <th>HAILSTORM</th>\n",
       "      <td>350.0003</td>\n",
       "      <td>456.1669</td>\n",
       "    </tr>\n",
       "    <tr>\n",
       "      <th>KINETIC</th>\n",
       "      <td>371.3334</td>\n",
       "      <td>434.5001</td>\n",
       "    </tr>\n",
       "    <tr>\n",
       "      <th>MINUTEMEN</th>\n",
       "      <td>310.0000</td>\n",
       "      <td>484.5000</td>\n",
       "    </tr>\n",
       "    <tr>\n",
       "      <th>MUDDY WATERS</th>\n",
       "      <td>326.6664</td>\n",
       "      <td>409.0003</td>\n",
       "    </tr>\n",
       "    <tr>\n",
       "      <th>NORDIC</th>\n",
       "      <td>345.1676</td>\n",
       "      <td>438.8335</td>\n",
       "    </tr>\n",
       "    <tr>\n",
       "      <th>NORTHWEST</th>\n",
       "      <td>234.6675</td>\n",
       "      <td>396.6670</td>\n",
       "    </tr>\n",
       "    <tr>\n",
       "      <th>ORION</th>\n",
       "      <td>330.5001</td>\n",
       "      <td>496.3331</td>\n",
       "    </tr>\n",
       "    <tr>\n",
       "      <th>RACEWAY</th>\n",
       "      <td>233.8338</td>\n",
       "      <td>351.0000</td>\n",
       "    </tr>\n",
       "    <tr>\n",
       "      <th>REVOLUTION</th>\n",
       "      <td>337.3336</td>\n",
       "      <td>411.3333</td>\n",
       "    </tr>\n",
       "    <tr>\n",
       "      <th>RIPTIDE</th>\n",
       "      <td>280.8337</td>\n",
       "      <td>325.6670</td>\n",
       "    </tr>\n",
       "    <tr>\n",
       "      <th>SOUTHERN STAR</th>\n",
       "      <td>362.1668</td>\n",
       "      <td>413.8333</td>\n",
       "    </tr>\n",
       "    <tr>\n",
       "      <th>STAMPEDE</th>\n",
       "      <td>518.8332</td>\n",
       "      <td>571.5000</td>\n",
       "    </tr>\n",
       "    <tr>\n",
       "      <th>SYNERGY</th>\n",
       "      <td>411.0000</td>\n",
       "      <td>553.8334</td>\n",
       "    </tr>\n",
       "    <tr>\n",
       "      <th>THE CAROLINAS</th>\n",
       "      <td>333.5002</td>\n",
       "      <td>452.1667</td>\n",
       "    </tr>\n",
       "    <tr>\n",
       "      <th>TORNADO VALLEY</th>\n",
       "      <td>275.9999</td>\n",
       "      <td>404.6669</td>\n",
       "    </tr>\n",
       "    <tr>\n",
       "      <th>VICTORY</th>\n",
       "      <td>306.0008</td>\n",
       "      <td>440.1666</td>\n",
       "    </tr>\n",
       "    <tr>\n",
       "      <th>WAVE RIDER</th>\n",
       "      <td>259.6663</td>\n",
       "      <td>356.3332</td>\n",
       "    </tr>\n",
       "    <tr>\n",
       "      <th>WOLVERINE</th>\n",
       "      <td>226.0002</td>\n",
       "      <td>300.0000</td>\n",
       "    </tr>\n",
       "    <tr>\n",
       "      <th>WRANGLER</th>\n",
       "      <td>353.0000</td>\n",
       "      <td>431.5005</td>\n",
       "    </tr>\n",
       "  </tbody>\n",
       "</table>\n",
       "</div>"
      ],
      "text/plain": [
       "                Units2015  Units2016\n",
       "Division                            \n",
       "BIG APPLE        297.8330   356.0000\n",
       "CHARGERS         228.8333   312.4999\n",
       "CONGRESSIONAL    306.5012   413.0006\n",
       "DIAMONDBACK      303.5001   419.0001\n",
       "EMPIRE           529.8335   563.3336\n",
       "GRIDIRON         278.0006   340.1675\n",
       "GULF STREAM      395.8333   624.3343\n",
       "HAILSTORM        350.0003   456.1669\n",
       "KINETIC          371.3334   434.5001\n",
       "MINUTEMEN        310.0000   484.5000\n",
       "MUDDY WATERS     326.6664   409.0003\n",
       "NORDIC           345.1676   438.8335\n",
       "NORTHWEST        234.6675   396.6670\n",
       "ORION            330.5001   496.3331\n",
       "RACEWAY          233.8338   351.0000\n",
       "REVOLUTION       337.3336   411.3333\n",
       "RIPTIDE          280.8337   325.6670\n",
       "SOUTHERN STAR    362.1668   413.8333\n",
       "STAMPEDE         518.8332   571.5000\n",
       "SYNERGY          411.0000   553.8334\n",
       "THE CAROLINAS    333.5002   452.1667\n",
       "TORNADO VALLEY   275.9999   404.6669\n",
       "VICTORY          306.0008   440.1666\n",
       "WAVE RIDER       259.6663   356.3332\n",
       "WOLVERINE        226.0002   300.0000\n",
       "WRANGLER         353.0000   431.5005"
      ]
     },
     "execution_count": 18,
     "metadata": {},
     "output_type": "execute_result"
    }
   ],
   "source": [
    "High_tier = sales[['Division','Tier','Units2015','Units2016']].loc[sales['Tier']=='High',:]\n",
    "High_tier2 = sales.groupby('Division')[['Units2015','Units2016']].sum()\n",
    "High_tier2"
   ]
  },
  {
   "cell_type": "code",
   "execution_count": 19,
   "id": "34546b06",
   "metadata": {},
   "outputs": [
    {
     "data": {
      "text/plain": [
       "<AxesSubplot:xlabel='Division', ylabel='Sales'>"
      ]
     },
     "execution_count": 19,
     "metadata": {},
     "output_type": "execute_result"
    },
    {
     "data": {
      "image/png": "[encoded data removed]",
      "text/plain": [
       "<Figure size 1080x432 with 1 Axes>"
      ]
     },
     "metadata": {
      "needs_background": "light"
     },
     "output_type": "display_data"
    }
   ],
   "source": [
    "High_tier2.plot.bar(y=['Units2015','Units2016'], figsize=(15,6), ylabel='Sales')"
   ]
  },
  {
   "cell_type": "markdown",
   "id": "0d8a2742",
   "metadata": {},
   "source": [
    "In all the High tier, all Division saw a increase in number of units sold in 2016 compared to 2015"
   ]
  },
  {
   "cell_type": "markdown",
   "id": "b8e2e530",
   "metadata": {},
   "source": [
    "6. Create a new column Qtr using numpy.where() or any suitable utility in the imported \n",
    "dataset. The Quarters are based on months and defined as -\n",
    "\n",
    "• Jan - Mar : Q1\n",
    "    \n",
    "• Apr - Jun : Q2\n",
    "    \n",
    "• Jul - Sep : Q3\n",
    "    \n",
    "• Oct - Dec : Q4"
   ]
  },
  {
   "cell_type": "code",
   "execution_count": 20,
   "id": "61148d0e",
   "metadata": {},
   "outputs": [],
   "source": [
    "sales['Qtr'] = np.where(sales['Month'].isin(['Jan','Feb','Mar']),'Q1',np.where(sales['Month'].isin(['Apr','May','Jun']),'Q2',\n",
    "                                                                            np.where(sales['Month'].isin(['Jul','Aug','Sep']),'Q3','Q4')))"
   ]
  },
  {
   "cell_type": "code",
   "execution_count": 21,
   "id": "b4702061",
   "metadata": {},
   "outputs": [
    {
     "data": {
      "text/html": [
       "<div>\n",
       "<style scoped>\n",
       "    .dataframe tbody tr th:only-of-type {\n",
       "        vertical-align: middle;\n",
       "    }\n",
       "\n",
       "    .dataframe tbody tr th {\n",
       "        vertical-align: top;\n",
       "    }\n",
       "\n",
       "    .dataframe thead th {\n",
       "        text-align: right;\n",
       "    }\n",
       "</style>\n",
       "<table border=\"1\" class=\"dataframe\">\n",
       "  <thead>\n",
       "    <tr style=\"text-align: right;\">\n",
       "      <th></th>\n",
       "      <th>AccountId</th>\n",
       "      <th>AccountName</th>\n",
       "      <th>Region</th>\n",
       "      <th>Division</th>\n",
       "      <th>City</th>\n",
       "      <th>State</th>\n",
       "      <th>Tier</th>\n",
       "      <th>Month</th>\n",
       "      <th>Sales2015</th>\n",
       "      <th>Sales2016</th>\n",
       "      <th>Units2015</th>\n",
       "      <th>Units2016</th>\n",
       "      <th>TargetAchevied2015</th>\n",
       "      <th>TargetAchevied2016</th>\n",
       "      <th>Qtr</th>\n",
       "    </tr>\n",
       "  </thead>\n",
       "  <tbody>\n",
       "    <tr>\n",
       "      <th>0</th>\n",
       "      <td>1116</td>\n",
       "      <td>Account1</td>\n",
       "      <td>West</td>\n",
       "      <td>DIAMONDBACK</td>\n",
       "      <td>PHOENIX W</td>\n",
       "      <td>AZ</td>\n",
       "      <td>Low</td>\n",
       "      <td>Aug</td>\n",
       "      <td>0.00</td>\n",
       "      <td>13208.52</td>\n",
       "      <td>0.0</td>\n",
       "      <td>4.0</td>\n",
       "      <td>0.70</td>\n",
       "      <td>1.53</td>\n",
       "      <td>Q3</td>\n",
       "    </tr>\n",
       "    <tr>\n",
       "      <th>1</th>\n",
       "      <td>1116</td>\n",
       "      <td>Account1</td>\n",
       "      <td>West</td>\n",
       "      <td>DIAMONDBACK</td>\n",
       "      <td>PHOENIX W</td>\n",
       "      <td>AZ</td>\n",
       "      <td>Low</td>\n",
       "      <td>Oct</td>\n",
       "      <td>10500.78</td>\n",
       "      <td>23114.91</td>\n",
       "      <td>3.0</td>\n",
       "      <td>7.0</td>\n",
       "      <td>0.84</td>\n",
       "      <td>1.31</td>\n",
       "      <td>Q4</td>\n",
       "    </tr>\n",
       "    <tr>\n",
       "      <th>2</th>\n",
       "      <td>2391</td>\n",
       "      <td>Account2</td>\n",
       "      <td>East</td>\n",
       "      <td>MINUTEMEN</td>\n",
       "      <td>HARTFORD</td>\n",
       "      <td>CT</td>\n",
       "      <td>Med</td>\n",
       "      <td>Jun</td>\n",
       "      <td>0.00</td>\n",
       "      <td>6627.00</td>\n",
       "      <td>0.0</td>\n",
       "      <td>3.0</td>\n",
       "      <td>1.15</td>\n",
       "      <td>1.29</td>\n",
       "      <td>Q2</td>\n",
       "    </tr>\n",
       "  </tbody>\n",
       "</table>\n",
       "</div>"
      ],
      "text/plain": [
       "   AccountId AccountName Region     Division       City State Tier Month  \\\n",
       "0       1116    Account1   West  DIAMONDBACK  PHOENIX W    AZ  Low   Aug   \n",
       "1       1116    Account1   West  DIAMONDBACK  PHOENIX W    AZ  Low   Oct   \n",
       "2       2391    Account2   East    MINUTEMEN   HARTFORD    CT  Med   Jun   \n",
       "\n",
       "   Sales2015  Sales2016  Units2015  Units2016  TargetAchevied2015  \\\n",
       "0       0.00   13208.52        0.0        4.0                0.70   \n",
       "1   10500.78   23114.91        3.0        7.0                0.84   \n",
       "2       0.00    6627.00        0.0        3.0                1.15   \n",
       "\n",
       "   TargetAchevied2016 Qtr  \n",
       "0                1.53  Q3  \n",
       "1                1.31  Q4  \n",
       "2                1.29  Q2  "
      ]
     },
     "execution_count": 21,
     "metadata": {},
     "output_type": "execute_result"
    }
   ],
   "source": [
    "sales.head(3)"
   ]
  },
  {
   "cell_type": "markdown",
   "id": "07666da0",
   "metadata": {},
   "source": [
    "7. Compare Qtr wise sales in 2015 and 2016 in a bar plot"
   ]
  },
  {
   "cell_type": "code",
   "execution_count": 22,
   "id": "8667cfcb",
   "metadata": {},
   "outputs": [
    {
     "data": {
      "text/plain": [
       "<AxesSubplot:title={'center':'Qtr wise sales'}, xlabel='Qtr', ylabel='Sales'>"
      ]
     },
     "execution_count": 22,
     "metadata": {},
     "output_type": "execute_result"
    },
    {
     "data": {
      "image/png": "[encoded data removed]",
      "text/plain": [
       "<Figure size 576x360 with 1 Axes>"
      ]
     },
     "metadata": {
      "needs_background": "light"
     },
     "output_type": "display_data"
    }
   ],
   "source": [
    "sales.pivot_table(index='Qtr', values=['Sales2015','Sales2016']).plot(kind='bar', figsize=(8,5), ylabel='Sales',title='Qtr wise sales')"
   ]
  },
  {
   "cell_type": "markdown",
   "id": "44448086",
   "metadata": {},
   "source": [
    "8. Determine the composition of Qtr wise sales in and 2016 with regards to all the Tiers in a \n",
    "pie chart.\n",
    "\n",
    " (Draw 4 pie charts representing a Quarter for each Tier)\n"
   ]
  },
  {
   "cell_type": "code",
   "execution_count": 23,
   "id": "b983477b",
   "metadata": {},
   "outputs": [
    {
     "data": {
      "text/html": [
       "<div>\n",
       "<style scoped>\n",
       "    .dataframe tbody tr th:only-of-type {\n",
       "        vertical-align: middle;\n",
       "    }\n",
       "\n",
       "    .dataframe tbody tr th {\n",
       "        vertical-align: top;\n",
       "    }\n",
       "\n",
       "    .dataframe thead th {\n",
       "        text-align: right;\n",
       "    }\n",
       "</style>\n",
       "<table border=\"1\" class=\"dataframe\">\n",
       "  <thead>\n",
       "    <tr style=\"text-align: right;\">\n",
       "      <th>Tier</th>\n",
       "      <th>High</th>\n",
       "      <th>Low</th>\n",
       "      <th>Med</th>\n",
       "      <th>Out</th>\n",
       "    </tr>\n",
       "    <tr>\n",
       "      <th>Qtr</th>\n",
       "      <th></th>\n",
       "      <th></th>\n",
       "      <th></th>\n",
       "      <th></th>\n",
       "    </tr>\n",
       "  </thead>\n",
       "  <tbody>\n",
       "    <tr>\n",
       "      <th>Q1</th>\n",
       "      <td>7974.677515</td>\n",
       "      <td>5516.469593</td>\n",
       "      <td>7654.041681</td>\n",
       "      <td>0.000000</td>\n",
       "    </tr>\n",
       "    <tr>\n",
       "      <th>Q2</th>\n",
       "      <td>8752.018136</td>\n",
       "      <td>5031.608757</td>\n",
       "      <td>8758.157542</td>\n",
       "      <td>0.000000</td>\n",
       "    </tr>\n",
       "    <tr>\n",
       "      <th>Q3</th>\n",
       "      <td>9334.404693</td>\n",
       "      <td>5446.422671</td>\n",
       "      <td>8197.976091</td>\n",
       "      <td>-360.947778</td>\n",
       "    </tr>\n",
       "    <tr>\n",
       "      <th>Q4</th>\n",
       "      <td>9386.142545</td>\n",
       "      <td>5052.104694</td>\n",
       "      <td>8307.596804</td>\n",
       "      <td>0.000000</td>\n",
       "    </tr>\n",
       "  </tbody>\n",
       "</table>\n",
       "</div>"
      ],
      "text/plain": [
       "Tier         High          Low          Med         Out\n",
       "Qtr                                                    \n",
       "Q1    7974.677515  5516.469593  7654.041681    0.000000\n",
       "Q2    8752.018136  5031.608757  8758.157542    0.000000\n",
       "Q3    9334.404693  5446.422671  8197.976091 -360.947778\n",
       "Q4    9386.142545  5052.104694  8307.596804    0.000000"
      ]
     },
     "execution_count": 23,
     "metadata": {},
     "output_type": "execute_result"
    }
   ],
   "source": [
    "Qtr_sales = sales.pivot_table(index='Qtr', columns='Tier', values='Sales2016')\n",
    "Qtr_sales"
   ]
  },
  {
   "cell_type": "code",
   "execution_count": 24,
   "id": "b2dca4f9",
   "metadata": {},
   "outputs": [
    {
     "data": {
      "text/html": [
       "<div>\n",
       "<style scoped>\n",
       "    .dataframe tbody tr th:only-of-type {\n",
       "        vertical-align: middle;\n",
       "    }\n",
       "\n",
       "    .dataframe tbody tr th {\n",
       "        vertical-align: top;\n",
       "    }\n",
       "\n",
       "    .dataframe thead th {\n",
       "        text-align: right;\n",
       "    }\n",
       "</style>\n",
       "<table border=\"1\" class=\"dataframe\">\n",
       "  <thead>\n",
       "    <tr style=\"text-align: right;\">\n",
       "      <th>Tier</th>\n",
       "      <th>High</th>\n",
       "      <th>Low</th>\n",
       "      <th>Med</th>\n",
       "      <th>Out</th>\n",
       "    </tr>\n",
       "    <tr>\n",
       "      <th>Qtr</th>\n",
       "      <th></th>\n",
       "      <th></th>\n",
       "      <th></th>\n",
       "      <th></th>\n",
       "    </tr>\n",
       "  </thead>\n",
       "  <tbody>\n",
       "    <tr>\n",
       "      <th>Q1</th>\n",
       "      <td>7974.677515</td>\n",
       "      <td>5516.469593</td>\n",
       "      <td>7654.041681</td>\n",
       "      <td>0.0</td>\n",
       "    </tr>\n",
       "    <tr>\n",
       "      <th>Q2</th>\n",
       "      <td>8752.018136</td>\n",
       "      <td>5031.608757</td>\n",
       "      <td>8758.157542</td>\n",
       "      <td>0.0</td>\n",
       "    </tr>\n",
       "    <tr>\n",
       "      <th>Q3</th>\n",
       "      <td>9334.404693</td>\n",
       "      <td>5446.422671</td>\n",
       "      <td>8197.976091</td>\n",
       "      <td>0.0</td>\n",
       "    </tr>\n",
       "    <tr>\n",
       "      <th>Q4</th>\n",
       "      <td>9386.142545</td>\n",
       "      <td>5052.104694</td>\n",
       "      <td>8307.596804</td>\n",
       "      <td>0.0</td>\n",
       "    </tr>\n",
       "  </tbody>\n",
       "</table>\n",
       "</div>"
      ],
      "text/plain": [
       "Tier         High          Low          Med  Out\n",
       "Qtr                                             \n",
       "Q1    7974.677515  5516.469593  7654.041681  0.0\n",
       "Q2    8752.018136  5031.608757  8758.157542  0.0\n",
       "Q3    9334.404693  5446.422671  8197.976091  0.0\n",
       "Q4    9386.142545  5052.104694  8307.596804  0.0"
      ]
     },
     "execution_count": 24,
     "metadata": {},
     "output_type": "execute_result"
    }
   ],
   "source": [
    "Qtr_sales['Out'] = np.where(Qtr_sales['Out']=='-360.947778',Qtr_sales['Out'],0)\n",
    "Qtr_sales"
   ]
  },
  {
   "cell_type": "code",
   "execution_count": 25,
   "id": "9dfebf5e",
   "metadata": {},
   "outputs": [
    {
     "data": {
      "text/plain": [
       "<AxesSubplot:title={'center':'Qtr1 sales'}, ylabel='Q1'>"
      ]
     },
     "execution_count": 25,
     "metadata": {},
     "output_type": "execute_result"
    },
    {
     "data": {
      "image/png": "[encoded data removed]",
      "text/plain": [
       "<Figure size 432x432 with 1 Axes>"
      ]
     },
     "metadata": {},
     "output_type": "display_data"
    }
   ],
   "source": [
    "Qtr_sales.loc['Q1'].plot(kind='pie',labels=['High','Low','Med','Out'],figsize=(6,6), autopct='%1.0f%%',\n",
    "                         explode = ([0.1,0.1,0.1,0.1]), colors=['#FF9933','#edecec','g','b'], title='Qtr1 sales')"
   ]
  },
  {
   "cell_type": "code",
   "execution_count": 26,
   "id": "7cb0bc21",
   "metadata": {},
   "outputs": [
    {
     "data": {
      "text/plain": [
       "<AxesSubplot:title={'center':'Qtr2 sales'}, ylabel='Q2'>"
      ]
     },
     "execution_count": 26,
     "metadata": {},
     "output_type": "execute_result"
    },
    {
     "data": {
      "image/png": "[encoded data removed]",
      "text/plain": [
       "<Figure size 432x432 with 1 Axes>"
      ]
     },
     "metadata": {},
     "output_type": "display_data"
    }
   ],
   "source": [
    "Qtr_sales.loc['Q2'].plot(kind='pie',labels=['High','Low','Med','Out'], autopct='%1.0f%%',\n",
    "                         figsize=(6,6),explode = ([0.1,0.1,0.1,0.1]), colors=['#FF9933','#edecec','g','b'], title='Qtr2 sales')"
   ]
  },
  {
   "cell_type": "code",
   "execution_count": 27,
   "id": "1a8b194a",
   "metadata": {},
   "outputs": [
    {
     "data": {
      "text/plain": [
       "<AxesSubplot:title={'center':'Qtr3 sales'}, ylabel='Q3'>"
      ]
     },
     "execution_count": 27,
     "metadata": {},
     "output_type": "execute_result"
    },
    {
     "data": {
      "image/png": "[encoded data removed]",
      "text/plain": [
       "<Figure size 432x432 with 1 Axes>"
      ]
     },
     "metadata": {},
     "output_type": "display_data"
    }
   ],
   "source": [
    "Qtr_sales.loc['Q3'].plot(kind='pie',labels=['High','Low','Med','Out'], autopct='%1.0f%%', colors=['#FF9933','#edecec','g','b'],figsize=(6,6),\n",
    "                         explode = ([0.1,0.1,0.1,0.1]),title=('Qtr3 sales'))"
   ]
  },
  {
   "cell_type": "code",
   "execution_count": 28,
   "id": "ad09c410",
   "metadata": {},
   "outputs": [
    {
     "data": {
      "text/plain": [
       "<AxesSubplot:title={'center':'Qtr4 sales'}, ylabel='Q4'>"
      ]
     },
     "execution_count": 28,
     "metadata": {},
     "output_type": "execute_result"
    },
    {
     "data": {
      "image/png": "[encoded data removed]",
      "text/plain": [
       "<Figure size 432x432 with 1 Axes>"
      ]
     },
     "metadata": {},
     "output_type": "display_data"
    }
   ],
   "source": [
    "Qtr_sales.loc['Q4'].plot(kind='pie',labels=['High','Low','Med','Out'], autopct='%1.0f%%',figsize=(6,6),\n",
    "                         explode = ([0.1,0.1,0.1,0.1]), colors=['#FF9933','#edecec','g','b'], title=('Qtr4 sales'))"
   ]
  },
  {
   "cell_type": "code",
   "execution_count": null,
   "id": "a17b5dc9",
   "metadata": {},
   "outputs": [],
   "source": []
  }
 ],
 "metadata": {
  "kernelspec": {
   "display_name": "Python 3 (ipykernel)",
   "language": "python",
   "name": "python3"
  },
  "language_info": {
   "codemirror_mode": {
    "name": "ipython",
    "version": 3
   },
   "file_extension": ".py",
   "mimetype": "text/x-python",
   "name": "python",
   "nbconvert_exporter": "python",
   "pygments_lexer": "ipython3",
   "version": "3.9.7"
  }
 },
 "nbformat": 4,
 "nbformat_minor": 5
}
